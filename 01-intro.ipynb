{
 "cells": [
  {
   "cell_type": "markdown",
   "id": "e9d5a4fe",
   "metadata": {},
   "source": [
    "# Langchain\n",
    "LangChain es una de las bibliotecas de código abierto más populares para ingenieros de IA. Su objetivo es simplificar la creación de software de IA, proporcionar bloques de construcción fáciles de usar y facilitar la transición entre proveedores de servicios de IA.\n",
    "\n",
    "En este ejemplo, presentaremos LangChain, creando un asistente sencillo basado en LLM. Proporcionaremos ejemplos para llama3.2 de Meta a través de Ollama!"
   ]
  },
  {
   "cell_type": "markdown",
   "id": "85d50e4c",
   "metadata": {},
   "source": [
    "Para ello trabajaremos en un ambiente virtual con VENV lo llamaremos *\"venvnb\"*, instalaremos prerequisitos para iniciar con Ollama y Langchain.\n",
    "Seguidamente estaremos trabajando sobre el prompt template"
   ]
  },
  {
   "cell_type": "code",
   "execution_count": 38,
   "id": "78d71d42",
   "metadata": {},
   "outputs": [],
   "source": [
    "!python -m venv venvnb || source venvnb\\Scripts\\activate\n",
    "!pip install -qU langchain-core langchain-ollama langchain-community"
   ]
  },
  {
   "cell_type": "markdown",
   "id": "d46993cf",
   "metadata": {},
   "source": [
    "Inicializamos el model con llama3.2 local"
   ]
  },
  {
   "cell_type": "code",
   "execution_count": 39,
   "id": "31214d31",
   "metadata": {},
   "outputs": [],
   "source": [
    "from langchain_ollama.llms import OllamaLLM\n",
    "\n",
    "# Inicializa el modelo Ollama LLM\n",
    "model = OllamaLLM(model=\"llama3.2\")"
   ]
  },
  {
   "cell_type": "markdown",
   "id": "8e77e558",
   "metadata": {},
   "source": [
    "A continuación, estaremos implementando el system y el user prompt apoyándonos de templates de langchain. Estos nos permiten trabajar de forma dinámica dentro de cada caso estableciendo variables que nos ayudan a mejorar el contexto y a la vez ahorrar tokens desde el inicio."
   ]
  },
  {
   "cell_type": "code",
   "execution_count": 40,
   "id": "eee9ede8",
   "metadata": {},
   "outputs": [],
   "source": [
    "from langchain.prompts import SystemMessagePromptTemplate, HumanMessagePromptTemplate\n",
    "\n",
    "empresa = \"Tech Innovators\"\n",
    "word_list = [\"Innovate\", \"Future\", \"Tech\", \"Solutions\", \"NextGen\"]\n",
    "\n",
    "# Definiendo el System Prompt\n",
    "system_prompt = SystemMessagePromptTemplate.from_template(\n",
    "    \"Eres un asistente creativo que genera slogans de empresas basados en el nombre de la empresa y una lista de palabras clave.\\n\"\n",
    ")\n",
    "\n",
    "user_prompt = HumanMessagePromptTemplate.from_template(\n",
    "    \"\"\"Crea el slogan de la empresa {empresa}.\n",
    "para ello te han entregado esta lista de palabras clave {word_list}.\n",
    "El slogan debe ser corto, creativo, pegajoso y reflejar la misión de la empresa.\n",
    "Entrega en una linea el slogan y luego una breve explicacion del mismo.\"\"\",\n",
    "    input_variables=[\"empresa\", \"word_list\"],\n",
    ")"
   ]
  },
  {
   "cell_type": "markdown",
   "id": "7259a616",
   "metadata": {},
   "source": [
    "Aqui podemos ver como se agregaron las variables que buscabamos en el user prompt"
   ]
  },
  {
   "cell_type": "code",
   "execution_count": 41,
   "id": "41c1efc4",
   "metadata": {},
   "outputs": [
    {
     "data": {
      "text/plain": [
       "HumanMessage(content=\"Crea el slogan de la empresa Tech Innovators.\\npara ello te han entregado esta lista de palabras clave ['Innovate', 'Future', 'Tech', 'Solutions', 'NextGen'].\\nEl slogan debe ser corto, creativo, pegajoso y reflejar la misión de la empresa.\\nEntrega en una linea el slogan y luego una breve explicacion del mismo.\", additional_kwargs={}, response_metadata={})"
      ]
     },
     "execution_count": 41,
     "metadata": {},
     "output_type": "execute_result"
    }
   ],
   "source": [
    "user_prompt.format(empresa=empresa, word_list=word_list)"
   ]
  },
  {
   "cell_type": "markdown",
   "id": "65e89a3b",
   "metadata": {},
   "source": [
    "Ahora que tenemos el system y user prompts, podemos juntarlos en nuestro chat prompt completo usando ChatPromptTemplate:"
   ]
  },
  {
   "cell_type": "code",
   "execution_count": 42,
   "id": "dd55ede2",
   "metadata": {},
   "outputs": [],
   "source": [
    "from langchain.prompts import ChatPromptTemplate\n",
    "myprompt = ChatPromptTemplate.from_messages([system_prompt, user_prompt])"
   ]
  },
  {
   "cell_type": "markdown",
   "id": "014aecbe",
   "metadata": {},
   "source": [
    "Por defecto, el **ChatPromptTemplate** leerá las variables de input de cada template entregado y permitirá a la vez usar dichas variables."
   ]
  },
  {
   "cell_type": "code",
   "execution_count": 43,
   "id": "e5719069",
   "metadata": {},
   "outputs": [
    {
     "name": "stdout",
     "output_type": "stream",
     "text": [
      "System: Eres un asistente creativo que genera slogans de empresas basados en el nombre de la empresa y una lista de palabras clave.\n",
      "\n",
      "Human: Crea el slogan de la empresa Tech Innovators.\n",
      "para ello te han entregado esta lista de palabras clave ['Innovate', 'Future', 'Tech', 'Solutions', 'NextGen'].\n",
      "El slogan debe ser corto, creativo, pegajoso y reflejar la misión de la empresa.\n",
      "Entrega en una linea el slogan y luego una breve explicacion del mismo.\n"
     ]
    }
   ],
   "source": [
    "print(myprompt.format(empresa=empresa, word_list=word_list))"
   ]
  },
  {
   "cell_type": "markdown",
   "id": "04ae15ce",
   "metadata": {},
   "source": [
    "ChatPromptTemplate también establece cada mensaje individual acorde a su rol. e.g.: System, Human, o AI.\n",
    "\n",
    "Podemos encadenar nuestra plantilla myprompt y el objeto llm que definimos anteriormente para crear una cadena LLM simple.\n",
    "Esta cadena realizará los pasos: formato del prompt > generación de llm > obtener la salida.\n",
    "\n",
    "Usaremos el *LangChain Expression Language* (LCEL) para construir nuestra cadena.\n",
    "Esta sintaxis puede parecer un poco extraña, pero la explicaremos en detalle más adelante en el curso.\n",
    "\n",
    "Por ahora, solo necesitamos saber que definimos nuestras entradas con el primer segmento del diccionario\n",
    "(es decir, {\"empresa\": lambda x: x[\"empresa\"]}) y luego usamos el operador de pipe o palote (|) para indicar que la salida de la izquierda de la barra vertical se introducirá en la entrada de la derecha."
   ]
  },
  {
   "cell_type": "code",
   "execution_count": 44,
   "id": "37644bcd",
   "metadata": {},
   "outputs": [],
   "source": [
    "chain_one = (\n",
    "    {\"empresa\": lambda x: x[\"empresa\"], \"word_list\": lambda x: x[\"word_list\"]}\n",
    "    | myprompt\n",
    "    | model\n",
    "    | {\"slogan\": lambda x: x}\n",
    ")"
   ]
  },
  {
   "cell_type": "markdown",
   "id": "1a7cbe0e",
   "metadata": {},
   "source": [
    "Esta es nuestra primera *Cadena de invocacion*"
   ]
  },
  {
   "cell_type": "code",
   "execution_count": 45,
   "id": "36da9266",
   "metadata": {},
   "outputs": [
    {
     "data": {
      "text/plain": [
       "{'slogan': '\"Soluciones para un futuro mejor\"\\n\\nEste slogan busca capturar la esencia de la empresa Tech Innovators, enfocándose en la idea de brindar soluciones innovadoras que ayuden a impulsar el cambio positivo hacia el futuro. La palabra \"nextGen\" sugiere un enfoque en generaciones futuras y tecnología avanzada, lo cual se refleja en la estructura del slogan.'}"
      ]
     },
     "execution_count": 45,
     "metadata": {},
     "output_type": "execute_result"
    }
   ],
   "source": [
    "Slogan = chain_one.invoke({\"empresa\": empresa, \"word_list\": word_list})\n",
    "Slogan"
   ]
  },
  {
   "cell_type": "markdown",
   "id": "b931b05e",
   "metadata": {},
   "source": [
    "Refinando el Output\n",
    "\n",
    "Ahora nos podemos apoyar de pydantic para crear un objeto que nos ayude a describir como queremos que sea el formato de salida."
   ]
  },
  {
   "cell_type": "code",
   "execution_count": 46,
   "id": "e8c7edd9",
   "metadata": {},
   "outputs": [],
   "source": [
    "from pydantic import BaseModel, Field\n",
    "from langchain_ollama import ChatOllama\n",
    "\n",
    "class SloganOutput(BaseModel):\n",
    "    slogan: str = Field(description=\"El slogan creativo de la empresa.\")\n",
    "    explanation: str = Field(description=\"Una breve explicación del slogan.\")\n",
    "    feedback: str = Field(description=\"Recomendacion sobre otras palabras a usar.\")\n",
    "\n",
    "# Nueva objeto de model con output estructurado\n",
    "structured_model = ChatOllama(model=\"llama3.2\").with_structured_output(SloganOutput)"
   ]
  },
  {
   "cell_type": "markdown",
   "id": "06f8069c",
   "metadata": {},
   "source": [
    "Ahora ponemos todo en conjunto, la nueva instancia con salida estructurada de pydantic, asi como los prompt templates"
   ]
  },
  {
   "cell_type": "code",
   "execution_count": 28,
   "id": "e49c9b97",
   "metadata": {},
   "outputs": [],
   "source": [
    "chain_three = (\n",
    "    {\"empresa\": lambda x: x[\"empresa\"], \"word_list\": lambda x: x[\"word_list\"]}\n",
    "    | myprompt\n",
    "    | structured_model\n",
    "    | {\n",
    "        \"slogan\": lambda x: x.slogan,\n",
    "        \"explanation\": lambda x: x.explanation,\n",
    "        \"feedback\": lambda x: x.feedback\n",
    "    }\n",
    ")"
   ]
  },
  {
   "cell_type": "code",
   "execution_count": 29,
   "id": "d5816a33",
   "metadata": {},
   "outputs": [
    {
     "data": {
      "text/plain": [
       "{'slogan': 'Invierte en el futuro',\n",
       " 'explanation': 'Este slogan destaca la capacidad de Tech Innovators para proporcionar soluciones tecnológicas que impulsan el progreso hacia un futuro más innovador, reflejando su compromiso con la innovación y la emoción por transformar el mundo.',\n",
       " 'feedback': 'El objetivo del nombre es atraer a clientes innovadores que buscan tecnología de vanguardia para mejorar sus procesos internos y acceder a nuevas soluciones que les permitan mantenerse competitivos en un mercado cada vez más dinámico. La emoción de innovar puede ayudar a una empresa Tech Innovators a destacarse en el mercado. En este caso, la frase se ha utilizado al máximo, manteniendo todos los elementos claves y transmitiendo un mensaje claro.'}"
      ]
     },
     "execution_count": 29,
     "metadata": {},
     "output_type": "execute_result"
    }
   ],
   "source": [
    "output = chain_three.invoke({\"empresa\": empresa, \"word_list\": word_list})\n",
    "output"
   ]
  }
 ],
 "metadata": {
  "kernelspec": {
   "display_name": "venv",
   "language": "python",
   "name": "python3"
  },
  "language_info": {
   "codemirror_mode": {
    "name": "ipython",
    "version": 3
   },
   "file_extension": ".py",
   "mimetype": "text/x-python",
   "name": "python",
   "nbconvert_exporter": "python",
   "pygments_lexer": "ipython3",
   "version": "3.13.7"
  }
 },
 "nbformat": 4,
 "nbformat_minor": 5
}
