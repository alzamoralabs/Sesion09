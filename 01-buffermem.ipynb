{
 "cells": [
  {
   "cell_type": "markdown",
   "id": "4ea7d17f",
   "metadata": {},
   "source": [
    "### 1.ConversationBufferMemory"
   ]
  },
  {
   "cell_type": "code",
   "execution_count": 83,
   "id": "7b26cb7b",
   "metadata": {},
   "outputs": [],
   "source": [
    "!python -m venv venvnb2 || source venvnb2\\Scripts\\activate\n",
    "!pip install -qU langchain-core langchain-ollama langchain-community"
   ]
  },
  {
   "cell_type": "markdown",
   "id": "d906dab6",
   "metadata": {},
   "source": [
    "Inicializamos el model con `phi3` local"
   ]
  },
  {
   "cell_type": "code",
   "execution_count": 84,
   "id": "0fe33ac3",
   "metadata": {},
   "outputs": [],
   "source": [
    "from langchain_ollama.llms import OllamaLLM\n",
    "\n",
    "# Inicializa el modelo Ollama LLM\n",
    "llm = OllamaLLM(model=\"llama3.2\")"
   ]
  },
  {
   "cell_type": "code",
   "execution_count": 85,
   "id": "50d06182",
   "metadata": {},
   "outputs": [],
   "source": [
    "from langchain.memory import ConversationBufferMemory\n",
    "\n",
    "memory = ConversationBufferMemory(return_messages=True)"
   ]
  },
  {
   "cell_type": "markdown",
   "id": "87b8ab23",
   "metadata": {},
   "source": [
    "Hay varias maneras de añadir mensajes a nuestra memoria. Usando el método save_context, podemos añadir una consulta del usuario (mediante la clave de entrada) y la respuesta de la IA (mediante la clave de salida). Para crear la siguiente conversación:\n",
    "\n",
    "- Usuario: Hola, me llamo Javier.\n",
    "- IA: ¡Hola Javier! Encantado de conocerte, soy un modelo de IA llamado Zeta.\n",
    "- Usuario: Estoy investigando los distintos tipos de memoria conversacional en LangChain.\n",
    "- IA: Qué interesante, ¿cuáles has estado explorando?\n",
    "- Usuario: He estado viendo ConversationBufferMemory y ConversationBufferWindowMemory.\n",
    "- IA: Suena bien. ¿Cuál es la diferencia entre ellos?\n",
    "- Usuario: La memoria tipo buffer guarda toda la conversación completa, ¿cierto?\n",
    "- IA: Exacto. ¿Y qué hace la memoria tipo buffer window?\n",
    "- Usuario: Esa guarda solo los últimos k mensajes y descarta el resto.\n",
    "- IA: ¡Muy útil para mantener el contexto sin saturar el modelo!\n",
    "\n",
    "Entonces:"
   ]
  },
  {
   "cell_type": "code",
   "execution_count": 86,
   "id": "5d04007d",
   "metadata": {},
   "outputs": [],
   "source": [
    "memory.save_context(\n",
    "    {\"input\": \"Hola, me llamo Javier.\"},\n",
    "    {\"output\": \"¡Hola Javier! Encantado de conocerte, soy un modelo de IA llamado Zeta.\"}\n",
    ")\n",
    "memory.save_context(\n",
    "    {\"input\": \"Estoy investigando los distintos tipos de memoria conversacional en LangChain.\"},\n",
    "    {\"output\": \"Qué interesante, ¿cuáles has estado explorando?\"}\n",
    ")\n",
    "memory.save_context(\n",
    "    {\"input\": \"He estado viendo ConversationBufferMemory y ConversationBufferWindowMemory.\"},\n",
    "    {\"output\": \"Suena bien. ¿Cuál es la diferencia entre ellos?\"}\n",
    ")\n",
    "memory.save_context(\n",
    "    {\"input\": \"La memoria tipo buffer guarda toda la conversación completa, ¿cierto?\"},\n",
    "    {\"output\": \"Exacto. ¿Y qué hace la memoria tipo buffer window?\"}\n",
    ")\n",
    "memory.save_context(\n",
    "    {\"input\": \"Esa guarda solo los últimos k mensajes y descarta el resto.\"},\n",
    "    {\"output\": \"¡Muy útil para mantener el contexto sin saturar el modelo!\"}\n",
    ")"
   ]
  },
  {
   "cell_type": "code",
   "execution_count": 87,
   "id": "77f843ac",
   "metadata": {},
   "outputs": [
    {
     "data": {
      "text/plain": [
       "{'history': [HumanMessage(content='Hola, me llamo Javier.', additional_kwargs={}, response_metadata={}),\n",
       "  AIMessage(content='¡Hola Javier! Encantado de conocerte, soy un modelo de IA llamado Zeta.', additional_kwargs={}, response_metadata={}),\n",
       "  HumanMessage(content='Estoy investigando los distintos tipos de memoria conversacional en LangChain.', additional_kwargs={}, response_metadata={}),\n",
       "  AIMessage(content='Qué interesante, ¿cuáles has estado explorando?', additional_kwargs={}, response_metadata={}),\n",
       "  HumanMessage(content='He estado viendo ConversationBufferMemory y ConversationBufferWindowMemory.', additional_kwargs={}, response_metadata={}),\n",
       "  AIMessage(content='Suena bien. ¿Cuál es la diferencia entre ellos?', additional_kwargs={}, response_metadata={}),\n",
       "  HumanMessage(content='La memoria tipo buffer guarda toda la conversación completa, ¿cierto?', additional_kwargs={}, response_metadata={}),\n",
       "  AIMessage(content='Exacto. ¿Y qué hace la memoria tipo buffer window?', additional_kwargs={}, response_metadata={}),\n",
       "  HumanMessage(content='Esa guarda solo los últimos k mensajes y descarta el resto.', additional_kwargs={}, response_metadata={}),\n",
       "  AIMessage(content='¡Muy útil para mantener el contexto sin saturar el modelo!', additional_kwargs={}, response_metadata={})]}"
      ]
     },
     "execution_count": 87,
     "metadata": {},
     "output_type": "execute_result"
    }
   ],
   "source": [
    "memory.load_memory_variables({})"
   ]
  },
  {
   "cell_type": "markdown",
   "id": "cedcc438",
   "metadata": {},
   "source": [
    "Con esto, ya tenemos nuestra memoria tipo buffer lista.\n",
    "Antes de conectarla al LLM, revisemos otra forma de agregar mensajes a la memoria.\n",
    "\n",
    "En lugar de guardar el contexto completo de una conversación, esta alternativa permite añadir los mensajes de manera individual, tanto del usuario como de la IA, utilizando los métodos add_user_message y add_ai_message.\n",
    "\n",
    "Si quisiéramos replicar lo que hicimos anteriormente, lo haríamos así:"
   ]
  },
  {
   "cell_type": "code",
   "execution_count": 88,
   "id": "b84b286f",
   "metadata": {
    "vscode": {
     "languageId": "javascript"
    }
   },
   "outputs": [
    {
     "data": {
      "text/plain": [
       "{'history': [HumanMessage(content='Hola, me llamo Javier.', additional_kwargs={}, response_metadata={}),\n",
       "  AIMessage(content='¡Hola Javier! Encantado de conocerte, soy un modelo de IA llamado Zeta.', additional_kwargs={}, response_metadata={}),\n",
       "  HumanMessage(content='Estoy investigando los distintos tipos de memoria conversacional en LangChain.', additional_kwargs={}, response_metadata={}),\n",
       "  AIMessage(content='Qué interesante, ¿cuáles has estado explorando?', additional_kwargs={}, response_metadata={}),\n",
       "  HumanMessage(content='He estado viendo ConversationBufferMemory y ConversationBufferWindowMemory.', additional_kwargs={}, response_metadata={}),\n",
       "  AIMessage(content='Suena bien. ¿Cuál es la diferencia entre ellos?', additional_kwargs={}, response_metadata={}),\n",
       "  HumanMessage(content='La memoria tipo buffer guarda toda la conversación completa, ¿cierto?', additional_kwargs={}, response_metadata={}),\n",
       "  AIMessage(content='Exacto. ¿Y qué hace la memoria tipo buffer window?', additional_kwargs={}, response_metadata={}),\n",
       "  HumanMessage(content='Esa guarda solo los últimos k mensajes y descarta el resto.', additional_kwargs={}, response_metadata={}),\n",
       "  AIMessage(content='¡Muy útil para mantener el contexto sin saturar el modelo!', additional_kwargs={}, response_metadata={})]}"
      ]
     },
     "execution_count": 88,
     "metadata": {},
     "output_type": "execute_result"
    }
   ],
   "source": [
    "memory = ConversationBufferMemory(return_messages=True)\n",
    "\n",
    "memory.chat_memory.add_user_message(\"Hola, me llamo Javier.\")\n",
    "memory.chat_memory.add_ai_message(\"¡Hola Javier! Encantado de conocerte, soy un modelo de IA llamado Zeta.\")\n",
    "memory.chat_memory.add_user_message(\"Estoy investigando los distintos tipos de memoria conversacional en LangChain.\")\n",
    "memory.chat_memory.add_ai_message(\"Qué interesante, ¿cuáles has estado explorando?\")\n",
    "memory.chat_memory.add_user_message(\"He estado viendo ConversationBufferMemory y ConversationBufferWindowMemory.\")\n",
    "memory.chat_memory.add_ai_message(\"Suena bien. ¿Cuál es la diferencia entre ellos?\")\n",
    "memory.chat_memory.add_user_message(\"La memoria tipo buffer guarda toda la conversación completa, ¿cierto?\")\n",
    "memory.chat_memory.add_ai_message(\"Exacto. ¿Y qué hace la memoria tipo buffer window?\")\n",
    "memory.chat_memory.add_user_message(\"Esa guarda solo los últimos k mensajes y descarta el resto.\")\n",
    "memory.chat_memory.add_ai_message(\"¡Muy útil para mantener el contexto sin saturar el modelo!\")\n",
    "\n",
    "memory.load_memory_variables({})"
   ]
  },
  {
   "cell_type": "markdown",
   "id": "384e9c3f",
   "metadata": {},
   "source": [
    "El resultado final es idéntico en ambos casos.  \n",
    "Para poder conectar esta memoria con nuestro modelo de lenguaje (LLM), necesitamos crear un objeto `ConversationChain`.\n",
    "\n",
    "Sin embargo, es importante tener en cuenta que esta clase ha quedado obsoleta y ha sido reemplazada por `RunnableWithMessageHistory`, la cual veremos más adelante."
   ]
  },
  {
   "cell_type": "code",
   "execution_count": 89,
   "id": "0a841a77",
   "metadata": {},
   "outputs": [],
   "source": [
    "from langchain.chains import ConversationChain\n",
    "\n",
    "chain = ConversationChain(\n",
    "    llm=llm,\n",
    "    memory=memory,\n",
    "    verbose=True\n",
    ")"
   ]
  },
  {
   "cell_type": "code",
   "execution_count": 90,
   "id": "51bdc5d8",
   "metadata": {},
   "outputs": [
    {
     "name": "stdout",
     "output_type": "stream",
     "text": [
      "\n",
      "\n",
      "\u001b[1m> Entering new ConversationChain chain...\u001b[0m\n",
      "Prompt after formatting:\n",
      "\u001b[32;1m\u001b[1;3mThe following is a friendly conversation between a human and an AI. The AI is talkative and provides lots of specific details from its context. If the AI does not know the answer to a question, it truthfully says it does not know.\n",
      "\n",
      "Current conversation:\n",
      "[HumanMessage(content='Hola, me llamo Javier.', additional_kwargs={}, response_metadata={}), AIMessage(content='¡Hola Javier! Encantado de conocerte, soy un modelo de IA llamado Zeta.', additional_kwargs={}, response_metadata={}), HumanMessage(content='Estoy investigando los distintos tipos de memoria conversacional en LangChain.', additional_kwargs={}, response_metadata={}), AIMessage(content='Qué interesante, ¿cuáles has estado explorando?', additional_kwargs={}, response_metadata={}), HumanMessage(content='He estado viendo ConversationBufferMemory y ConversationBufferWindowMemory.', additional_kwargs={}, response_metadata={}), AIMessage(content='Suena bien. ¿Cuál es la diferencia entre ellos?', additional_kwargs={}, response_metadata={}), HumanMessage(content='La memoria tipo buffer guarda toda la conversación completa, ¿cierto?', additional_kwargs={}, response_metadata={}), AIMessage(content='Exacto. ¿Y qué hace la memoria tipo buffer window?', additional_kwargs={}, response_metadata={}), HumanMessage(content='Esa guarda solo los últimos k mensajes y descarta el resto.', additional_kwargs={}, response_metadata={}), AIMessage(content='¡Muy útil para mantener el contexto sin saturar el modelo!', additional_kwargs={}, response_metadata={})]\n",
      "Human: de que te estaba hablando? (dímelo de forma puntual y breve)\n",
      "AI:\u001b[0m\n",
      "\n",
      "\u001b[1m> Finished chain.\u001b[0m\n"
     ]
    }
   ],
   "source": [
    "response = chain.invoke({\"input\": \"de que te estaba hablando? (dímelo de forma puntual y breve)\"})"
   ]
  },
  {
   "cell_type": "code",
   "execution_count": 91,
   "id": "196d0311",
   "metadata": {},
   "outputs": [
    {
     "name": "stdout",
     "output_type": "stream",
     "text": [
      "Memoria conversacional.\n"
     ]
    }
   ],
   "source": [
    "print(response['response'])"
   ]
  },
  {
   "cell_type": "markdown",
   "id": "51c8aa79",
   "metadata": {},
   "source": [
    "### ConversationBufferMemory with RunnableWithMessageHistory\n",
    "Como se advierte, el tipo `ConversationBufferMemory` está a punto de quedar obsoleto. En su lugar, podemos usar la clase `RunnableWithMessageHistory` para implementar la misma funcionalidad.\n",
    "\n",
    "Al implementar `RunnableWithMessageHistory`, usaremos el **LangChain Expression Language (LCEL)**. Para ello, necesitamos definir nuestra plantilla de mensaje y los componentes LLM. Con el LLM ya nos enfocaremos en `ChatPromptTemplate`."
   ]
  },
  {
   "cell_type": "code",
   "execution_count": 92,
   "id": "3d8cbb04",
   "metadata": {},
   "outputs": [],
   "source": [
    "from langchain.prompts import (\n",
    "    SystemMessagePromptTemplate,\n",
    "    HumanMessagePromptTemplate,\n",
    "    MessagesPlaceholder,\n",
    "    ChatPromptTemplate\n",
    ")\n",
    "\n",
    "system_prompt = \"Eres un asistente muy útil llamado Zeta, respondes siempre de forma breve y puntual.\"\n",
    "\n",
    "prompt_template = ChatPromptTemplate.from_messages([\n",
    "    SystemMessagePromptTemplate.from_template(system_prompt),\n",
    "    MessagesPlaceholder(variable_name=\"history\"),\n",
    "    HumanMessagePromptTemplate.from_template(\"{query}\"),\n",
    "])"
   ]
  },
  {
   "cell_type": "markdown",
   "id": "d3707aba",
   "metadata": {},
   "source": [
    "Esta es la forma en la que trabaja LangChain, concatena (a manera de una cadena justamente) cada uno de los componentes que luego llegan a una invocacion."
   ]
  },
  {
   "cell_type": "code",
   "execution_count": 93,
   "id": "a5772ab9",
   "metadata": {},
   "outputs": [],
   "source": [
    "pipeline = prompt_template | llm"
   ]
  },
  {
   "cell_type": "markdown",
   "id": "33516227",
   "metadata": {},
   "source": [
    "`RunnableWithMessageHistory` requiere que nuestro pipeline esté en un objeto `RunnableWithMessageHistory`.\n",
    "Este objeto, requiere de `get_session_history`, el cual requiere a su vez de una función que devuelva un objeto ChatMessageHistory basado en un ID de sesión.\n",
    "\n",
    "Definimos esta función nosotros mismos:"
   ]
  },
  {
   "cell_type": "code",
   "execution_count": 94,
   "id": "c2233268",
   "metadata": {},
   "outputs": [],
   "source": [
    "from langchain_core.chat_history import InMemoryChatMessageHistory\n",
    "\n",
    "chat_map = {}\n",
    "def get_chat_history(session_id: str) -> InMemoryChatMessageHistory:\n",
    "    if session_id not in chat_map:\n",
    "        # Si no existe, crea un nuevo historial de chat en memoria\n",
    "        chat_map[session_id] = InMemoryChatMessageHistory()\n",
    "    return chat_map[session_id]"
   ]
  },
  {
   "cell_type": "markdown",
   "id": "a40a4e65",
   "metadata": {},
   "source": [
    "También necesitamos indicar a nuestro runnable qué nombre de variable usar para el historial de chat (por ejemplo, history) y cuál para la consulta del usuario (por ejemplo, query)."
   ]
  },
  {
   "cell_type": "code",
   "execution_count": 95,
   "id": "16767e92",
   "metadata": {},
   "outputs": [],
   "source": [
    "from langchain_core.runnables.history import RunnableWithMessageHistory\n",
    "\n",
    "pipeline_with_history = RunnableWithMessageHistory(\n",
    "    pipeline,\n",
    "    get_session_history=get_chat_history,\n",
    "    input_messages_key=\"query\",\n",
    "    history_messages_key=\"history\"\n",
    ")"
   ]
  },
  {
   "cell_type": "code",
   "execution_count": 96,
   "id": "58b44b6d",
   "metadata": {},
   "outputs": [
    {
     "data": {
      "text/plain": [
       "'Hola Boris! Me alegra conocerte. El sushi es una excelente elección, ¿qué tipo de sushí te gustaría probar hoy?'"
      ]
     },
     "execution_count": 96,
     "metadata": {},
     "output_type": "execute_result"
    }
   ],
   "source": [
    "pipeline_with_history.invoke(\n",
    "    {\"query\": \"hola, me llamo Boris. y me gusta el sushi\"},\n",
    "    config={\"session_id\": \"id_123\"}\n",
    ")"
   ]
  },
  {
   "cell_type": "code",
   "execution_count": 97,
   "id": "bbb25db7",
   "metadata": {},
   "outputs": [
    {
     "data": {
      "text/plain": [
       "'Boris, estoy emocionado de ayudarte. Mi memoria tiene información sobre ti, pero me gustaría confirmar. No recuerdo exactamente cuándo nos conocimos, ¿podrías decirme qué situación o evento es el que estamos conectando?'"
      ]
     },
     "execution_count": 97,
     "metadata": {},
     "output_type": "execute_result"
    }
   ],
   "source": [
    "pipeline_with_history.invoke(\n",
    "    {\"query\": \"Cuál es mi nombre?\"},\n",
    "    config={\"session_id\": \"id_123\"}\n",
    ")"
   ]
  },
  {
   "cell_type": "code",
   "execution_count": 1,
   "id": "423babe6",
   "metadata": {},
   "outputs": [
    {
     "ename": "NameError",
     "evalue": "name 'pipeline_with_history' is not defined",
     "output_type": "error",
     "traceback": [
      "\u001b[31m---------------------------------------------------------------------------\u001b[39m",
      "\u001b[31mNameError\u001b[39m                                 Traceback (most recent call last)",
      "\u001b[36mCell\u001b[39m\u001b[36m \u001b[39m\u001b[32mIn[1]\u001b[39m\u001b[32m, line 1\u001b[39m\n\u001b[32m----> \u001b[39m\u001b[32m1\u001b[39m \u001b[43mpipeline_with_history\u001b[49m.invoke(\n\u001b[32m      2\u001b[39m     {\u001b[33m\"\u001b[39m\u001b[33mquery\u001b[39m\u001b[33m\"\u001b[39m: \u001b[33m\"\u001b[39m\u001b[33mque comida me gusta?\u001b[39m\u001b[33m\"\u001b[39m},\n\u001b[32m      3\u001b[39m     config={\u001b[33m\"\u001b[39m\u001b[33msession_id\u001b[39m\u001b[33m\"\u001b[39m: \u001b[33m\"\u001b[39m\u001b[33mid_123\u001b[39m\u001b[33m\"\u001b[39m}\n\u001b[32m      4\u001b[39m )\n",
      "\u001b[31mNameError\u001b[39m: name 'pipeline_with_history' is not defined"
     ]
    }
   ],
   "source": [
    "pipeline_with_history.invoke(\n",
    "    {\"query\": \"que comida me gusta?\"},\n",
    "    config={\"session_id\": \"id_123\"}\n",
    ")"
   ]
  },
  {
   "cell_type": "markdown",
   "id": "c6c7a505",
   "metadata": {},
   "source": [
    "### 2.ConversationBufferWindowMemory"
   ]
  },
  {
   "cell_type": "code",
   "execution_count": 98,
   "id": "74a32d3e",
   "metadata": {},
   "outputs": [],
   "source": [
    "from langchain.memory import ConversationBufferWindowMemory\n",
    "\n",
    "memory = ConversationBufferWindowMemory(k=4, return_messages=True)"
   ]
  },
  {
   "cell_type": "code",
   "execution_count": 99,
   "id": "185ccd32",
   "metadata": {},
   "outputs": [
    {
     "data": {
      "text/plain": [
       "{'history': [HumanMessage(content='Estoy investigando los distintos tipos de memoria conversacional en LangChain.', additional_kwargs={}, response_metadata={}),\n",
       "  AIMessage(content='Qué interesante, ¿cuáles has estado explorando?', additional_kwargs={}, response_metadata={}),\n",
       "  HumanMessage(content='He estado viendo ConversationBufferMemory y ConversationBufferWindowMemory.', additional_kwargs={}, response_metadata={}),\n",
       "  AIMessage(content='Suena bien. ¿Cuál es la diferencia entre ellos?', additional_kwargs={}, response_metadata={}),\n",
       "  HumanMessage(content='La memoria tipo buffer guarda toda la conversación completa, ¿cierto?', additional_kwargs={}, response_metadata={}),\n",
       "  AIMessage(content='Exacto. ¿Y qué hace la memoria tipo buffer window?', additional_kwargs={}, response_metadata={}),\n",
       "  HumanMessage(content='Esa guarda solo los últimos k mensajes y descarta el resto.', additional_kwargs={}, response_metadata={}),\n",
       "  AIMessage(content='¡Muy útil para mantener el contexto sin saturar el modelo!', additional_kwargs={}, response_metadata={})]}"
      ]
     },
     "execution_count": 99,
     "metadata": {},
     "output_type": "execute_result"
    }
   ],
   "source": [
    "memory.chat_memory.add_user_message(\"Hola, me llamo Javier.\")\n",
    "memory.chat_memory.add_ai_message(\"¡Hola Javier! Encantado de conocerte, soy un modelo de IA llamado Zeta.\")\n",
    "memory.chat_memory.add_user_message(\"Estoy investigando los distintos tipos de memoria conversacional en LangChain.\")\n",
    "memory.chat_memory.add_ai_message(\"Qué interesante, ¿cuáles has estado explorando?\")\n",
    "memory.chat_memory.add_user_message(\"He estado viendo ConversationBufferMemory y ConversationBufferWindowMemory.\")\n",
    "memory.chat_memory.add_ai_message(\"Suena bien. ¿Cuál es la diferencia entre ellos?\")\n",
    "memory.chat_memory.add_user_message(\"La memoria tipo buffer guarda toda la conversación completa, ¿cierto?\")\n",
    "memory.chat_memory.add_ai_message(\"Exacto. ¿Y qué hace la memoria tipo buffer window?\")\n",
    "memory.chat_memory.add_user_message(\"Esa guarda solo los últimos k mensajes y descarta el resto.\")\n",
    "memory.chat_memory.add_ai_message(\"¡Muy útil para mantener el contexto sin saturar el modelo!\")\n",
    "\n",
    "memory.load_memory_variables({})"
   ]
  },
  {
   "cell_type": "code",
   "execution_count": 100,
   "id": "9b6f13e7",
   "metadata": {},
   "outputs": [],
   "source": [
    "chain = ConversationChain(\n",
    "    llm=llm,\n",
    "    memory=memory,\n",
    "    verbose=True\n",
    ")"
   ]
  },
  {
   "cell_type": "code",
   "execution_count": 101,
   "id": "59a36cd4",
   "metadata": {},
   "outputs": [
    {
     "name": "stdout",
     "output_type": "stream",
     "text": [
      "\n",
      "\n",
      "\u001b[1m> Entering new ConversationChain chain...\u001b[0m\n",
      "Prompt after formatting:\n",
      "\u001b[32;1m\u001b[1;3mThe following is a friendly conversation between a human and an AI. The AI is talkative and provides lots of specific details from its context. If the AI does not know the answer to a question, it truthfully says it does not know.\n",
      "\n",
      "Current conversation:\n",
      "[HumanMessage(content='Estoy investigando los distintos tipos de memoria conversacional en LangChain.', additional_kwargs={}, response_metadata={}), AIMessage(content='Qué interesante, ¿cuáles has estado explorando?', additional_kwargs={}, response_metadata={}), HumanMessage(content='He estado viendo ConversationBufferMemory y ConversationBufferWindowMemory.', additional_kwargs={}, response_metadata={}), AIMessage(content='Suena bien. ¿Cuál es la diferencia entre ellos?', additional_kwargs={}, response_metadata={}), HumanMessage(content='La memoria tipo buffer guarda toda la conversación completa, ¿cierto?', additional_kwargs={}, response_metadata={}), AIMessage(content='Exacto. ¿Y qué hace la memoria tipo buffer window?', additional_kwargs={}, response_metadata={}), HumanMessage(content='Esa guarda solo los últimos k mensajes y descarta el resto.', additional_kwargs={}, response_metadata={}), AIMessage(content='¡Muy útil para mantener el contexto sin saturar el modelo!', additional_kwargs={}, response_metadata={})]\n",
      "Human: cual es mi nombre?\n",
      "AI:\u001b[0m\n",
      "\n",
      "\u001b[1m> Finished chain.\u001b[0m\n"
     ]
    }
   ],
   "source": [
    "response = chain.invoke({\"input\": \"cual es mi nombre?\"})"
   ]
  },
  {
   "cell_type": "code",
   "execution_count": 102,
   "id": "ebadc3e6",
   "metadata": {},
   "outputs": [
    {
     "name": "stdout",
     "output_type": "stream",
     "text": [
      "Bueno, soy un modelo de lenguaje basado en aprendizaje automático, así que no tengo un nombre personal en el sentido tradicional. Sin embargo, puedo darte algunas opciones si quieres referirte a mí de alguna manera. Puedes llamarme \"Assistant\" o simplemente \"AI\", como lo he estado haciendo hasta ahora. También puedo proporcionarte información sobre cómo se llama a diferentes componentes de mi arquitectura o cómo se estructuran mis conversaciones, si eso te interesa. ¿Qué tal si empezamos con algo más? ¿En qué puedo ayudarte hoy?\n"
     ]
    }
   ],
   "source": [
    "print(response['response'])"
   ]
  },
  {
   "cell_type": "markdown",
   "id": "b988e306",
   "metadata": {},
   "source": [
    "La razón por la que nuestro LLM ya no recuerda nuestro nombre es porque hemos establecido el parámetro `k` en `4`, lo que significa que solo se almacenan en memoria los últimos mensajes. Como podemos ver arriba, esto no incluye el primer mensaje donde nos presentamos.\n",
    "\n",
    "Si consideramos que el agente olvida nuestro nombre, podríamos preguntarnos por qué usaríamos este tipo de memoria en lugar de la memoria intermedia estándar. Como ocurre con la mayoría de los procesos en IA, siempre hay que buscar soluciones intermedias. Aquí podemos mantener conversaciones mucho más largas, usar menos tokens y mejorar la latencia, pero esto implica olvidar mensajes no recientes."
   ]
  },
  {
   "cell_type": "code",
   "execution_count": 103,
   "id": "c9f6d23c",
   "metadata": {},
   "outputs": [
    {
     "name": "stdout",
     "output_type": "stream",
     "text": [
      "\n",
      "\n",
      "\u001b[1m> Entering new ConversationChain chain...\u001b[0m\n",
      "Prompt after formatting:\n",
      "\u001b[32;1m\u001b[1;3mThe following is a friendly conversation between a human and an AI. The AI is talkative and provides lots of specific details from its context. If the AI does not know the answer to a question, it truthfully says it does not know.\n",
      "\n",
      "Current conversation:\n",
      "[HumanMessage(content='He estado viendo ConversationBufferMemory y ConversationBufferWindowMemory.', additional_kwargs={}, response_metadata={}), AIMessage(content='Suena bien. ¿Cuál es la diferencia entre ellos?', additional_kwargs={}, response_metadata={}), HumanMessage(content='La memoria tipo buffer guarda toda la conversación completa, ¿cierto?', additional_kwargs={}, response_metadata={}), AIMessage(content='Exacto. ¿Y qué hace la memoria tipo buffer window?', additional_kwargs={}, response_metadata={}), HumanMessage(content='Esa guarda solo los últimos k mensajes y descarta el resto.', additional_kwargs={}, response_metadata={}), AIMessage(content='¡Muy útil para mantener el contexto sin saturar el modelo!', additional_kwargs={}, response_metadata={}), HumanMessage(content='cual es mi nombre?', additional_kwargs={}, response_metadata={}), AIMessage(content='Bueno, soy un modelo de lenguaje basado en aprendizaje automático, así que no tengo un nombre personal en el sentido tradicional. Sin embargo, puedo darte algunas opciones si quieres referirte a mí de alguna manera. Puedes llamarme \"Assistant\" o simplemente \"AI\", como lo he estado haciendo hasta ahora. También puedo proporcionarte información sobre cómo se llama a diferentes componentes de mi arquitectura o cómo se estructuran mis conversaciones, si eso te interesa. ¿Qué tal si empezamos con algo más? ¿En qué puedo ayudarte hoy?', additional_kwargs={}, response_metadata={})]\n",
      "Human: hablamos de ConversationBufferWindowMemory?\n",
      "AI:\u001b[0m\n",
      "\n",
      "\u001b[1m> Finished chain.\u001b[0m\n"
     ]
    },
    {
     "data": {
      "text/plain": [
       "{'input': 'hablamos de ConversationBufferWindowMemory?',\n",
       " 'history': [HumanMessage(content='He estado viendo ConversationBufferMemory y ConversationBufferWindowMemory.', additional_kwargs={}, response_metadata={}),\n",
       "  AIMessage(content='Suena bien. ¿Cuál es la diferencia entre ellos?', additional_kwargs={}, response_metadata={}),\n",
       "  HumanMessage(content='La memoria tipo buffer guarda toda la conversación completa, ¿cierto?', additional_kwargs={}, response_metadata={}),\n",
       "  AIMessage(content='Exacto. ¿Y qué hace la memoria tipo buffer window?', additional_kwargs={}, response_metadata={}),\n",
       "  HumanMessage(content='Esa guarda solo los últimos k mensajes y descarta el resto.', additional_kwargs={}, response_metadata={}),\n",
       "  AIMessage(content='¡Muy útil para mantener el contexto sin saturar el modelo!', additional_kwargs={}, response_metadata={}),\n",
       "  HumanMessage(content='cual es mi nombre?', additional_kwargs={}, response_metadata={}),\n",
       "  AIMessage(content='Bueno, soy un modelo de lenguaje basado en aprendizaje automático, así que no tengo un nombre personal en el sentido tradicional. Sin embargo, puedo darte algunas opciones si quieres referirte a mí de alguna manera. Puedes llamarme \"Assistant\" o simplemente \"AI\", como lo he estado haciendo hasta ahora. También puedo proporcionarte información sobre cómo se llama a diferentes componentes de mi arquitectura o cómo se estructuran mis conversaciones, si eso te interesa. ¿Qué tal si empezamos con algo más? ¿En qué puedo ayudarte hoy?', additional_kwargs={}, response_metadata={})],\n",
       " 'response': '¡Claro que sí! La memoria tipo buffer window es una estructura de almacenamiento temporal que se utiliza para mantener el contexto de la conversación durante un período limitado de tiempo. En este caso, como mencionaste, guarda solo los últimos k mensajes y descarta el resto.\\n\\nLa función principal de la memoria buffer window es ayudar a mantener el flujo de la conversación sin saturar el modelo con demasiada información. Al almacenar solo los últimos mensajes, se evita que el modelo se vuelva ineficaz al tratar de procesar una gran cantidad de datos al mismo tiempo.\\n\\nAdemás, la memoria buffer window ayuda a mejorar la coherencia y el flujo de la conversación, ya que permite al modelo mantener un registro de las interacciones recientes y utilizar esa información para responder de manera más relevante y contextualizada.\\n\\nEn general, la memoria buffer window es una herramienta importante en el diseño de modelos de lenguaje como yo, ya que nos permite procesar y responder a las preguntas y comentarios de los usuarios de manera más eficiente y efectiva.'}"
      ]
     },
     "execution_count": 103,
     "metadata": {},
     "output_type": "execute_result"
    }
   ],
   "source": [
    "chain.invoke({\"input\": \"hablamos de ConversationBufferWindowMemory?\"})"
   ]
  },
  {
   "cell_type": "markdown",
   "id": "dc5d0f18",
   "metadata": {},
   "source": [
    "## ConversationBufferWindowMemory with RunnableWithMessageHistory"
   ]
  },
  {
   "cell_type": "code",
   "execution_count": null,
   "id": "c71f8f25",
   "metadata": {},
   "outputs": [],
   "source": [
    "from pydantic import BaseModel, Field\n",
    "from langchain_core.chat_history import BaseChatMessageHistory\n",
    "from langchain_core.messages import BaseMessage\n",
    "\n",
    "class BufferWindowMessageHistory(BaseChatMessageHistory, BaseModel):\n",
    "    messages: list[BaseMessage] = Field(default_factory=list)\n",
    "    k: int = Field(default_factory=int)\n",
    "\n",
    "    def __init__(self, k: int):\n",
    "        super().__init__(k=k)\n",
    "        print(f\"Inicializando BufferWindowMessageHistory con k={k}\")\n",
    "\n",
    "    def add_messages(self, messages: list[BaseMessage]) -> None:\n",
    "        \"\"\"Agrega mensajes al historial, removiendo cualquier mensaje posterior a los ultimos `k` mensajes.\"\"\"\n",
    "        self.messages.extend(messages)\n",
    "        self.messages = self.messages[-self.k:]\n",
    "\n",
    "    def clear(self) -> None:\n",
    "        \"\"\"limpiar historial.\"\"\"\n",
    "        self.messages = []"
   ]
  },
  {
   "cell_type": "code",
   "execution_count": 105,
   "id": "a42b8834",
   "metadata": {},
   "outputs": [],
   "source": [
    "chat_map = {}\n",
    "def get_chat_history(session_id: str, k: int = 4) -> BufferWindowMessageHistory:\n",
    "    print(f\"get_chat_history llamado con session_id={session_id} y k={k}\")\n",
    "    if session_id not in chat_map:\n",
    "        # if session ID doesn't exist, create a new chat history\n",
    "        chat_map[session_id] = BufferWindowMessageHistory(k=k)\n",
    "    # remove anything beyond the last\n",
    "    return chat_map[session_id]"
   ]
  },
  {
   "cell_type": "code",
   "execution_count": 106,
   "id": "bbc14f07",
   "metadata": {},
   "outputs": [],
   "source": [
    "from langchain_core.runnables import ConfigurableFieldSpec\n",
    "\n",
    "pipeline_with_history = RunnableWithMessageHistory(\n",
    "    pipeline,\n",
    "    get_session_history=get_chat_history,\n",
    "    input_messages_key=\"query\",\n",
    "    history_messages_key=\"history\",\n",
    "    history_factory_config=[\n",
    "        ConfigurableFieldSpec(\n",
    "            id=\"session_id\",\n",
    "            annotation=str,\n",
    "            name=\"Session ID\",\n",
    "            description=\"El ID de sesión a usarse en el historial de chat\",\n",
    "            default=\"id_default\",\n",
    "        ),\n",
    "        ConfigurableFieldSpec(\n",
    "            id=\"k\",\n",
    "            annotation=int,\n",
    "            name=\"k\",\n",
    "            description=\"el número de mensajes a mantener en memoria\",\n",
    "            default=4,\n",
    "        )\n",
    "    ]\n",
    ")"
   ]
  },
  {
   "cell_type": "code",
   "execution_count": 107,
   "id": "a987ed37",
   "metadata": {},
   "outputs": [
    {
     "name": "stdout",
     "output_type": "stream",
     "text": [
      "get_chat_history llamado con session_id=id_k4 y k=4\n",
      "Inicializando BufferWindowMessageHistory con k=4\n"
     ]
    },
    {
     "data": {
      "text/plain": [
       "'Hola Javier, buenos días. ¿En qué puedo ayudarte hoy?'"
      ]
     },
     "execution_count": 107,
     "metadata": {},
     "output_type": "execute_result"
    }
   ],
   "source": [
    "pipeline_with_history.invoke(\n",
    "    {\"query\": \"hola, me llamo Javier.\"},\n",
    "    config={\"configurable\": {\"session_id\": \"id_k4\", \"k\": 4}}\n",
    ")"
   ]
  },
  {
   "cell_type": "code",
   "execution_count": 108,
   "id": "fe77360e",
   "metadata": {},
   "outputs": [
    {
     "data": {
      "text/plain": [
       "[HumanMessage(content='La memoria tipo buffer guarda toda la conversación completa, ¿cierto?', additional_kwargs={}, response_metadata={}),\n",
       " AIMessage(content='Exacto. ¿Y qué hace la memoria tipo buffer window?', additional_kwargs={}, response_metadata={}),\n",
       " HumanMessage(content='Esa guarda solo los últimos k mensajes y descarta el resto.', additional_kwargs={}, response_metadata={}),\n",
       " AIMessage(content='¡Muy útil para mantener el contexto sin saturar el modelo!', additional_kwargs={}, response_metadata={})]"
      ]
     },
     "execution_count": 108,
     "metadata": {},
     "output_type": "execute_result"
    }
   ],
   "source": [
    "chat_map[\"id_k4\"].clear()  # limpiar historial\n",
    "\n",
    "chat_map[\"id_k4\"].add_user_message(\"Hola, me llamo Javier.\")\n",
    "chat_map[\"id_k4\"].add_ai_message(\"¡Hola Javier! Encantado de conocerte, soy un modelo de IA llamado Zeta.\")\n",
    "chat_map[\"id_k4\"].add_user_message(\"Estoy investigando los distintos tipos de memoria conversacional en LangChain.\")\n",
    "chat_map[\"id_k4\"].add_ai_message(\"Qué interesante, ¿cuáles has estado explorando?\")\n",
    "chat_map[\"id_k4\"].add_user_message(\"He estado viendo ConversationBufferMemory y ConversationBufferWindowMemory.\")\n",
    "chat_map[\"id_k4\"].add_ai_message(\"Suena bien. ¿Cuál es la diferencia entre ellos?\")\n",
    "chat_map[\"id_k4\"].add_user_message(\"La memoria tipo buffer guarda toda la conversación completa, ¿cierto?\")\n",
    "chat_map[\"id_k4\"].add_ai_message(\"Exacto. ¿Y qué hace la memoria tipo buffer window?\")\n",
    "chat_map[\"id_k4\"].add_user_message(\"Esa guarda solo los últimos k mensajes y descarta el resto.\")\n",
    "chat_map[\"id_k4\"].add_ai_message(\"¡Muy útil para mantener el contexto sin saturar el modelo!\")\n",
    "\n",
    "chat_map[\"id_k4\"].messages"
   ]
  },
  {
   "cell_type": "code",
   "execution_count": 109,
   "id": "ee6fc738",
   "metadata": {},
   "outputs": [
    {
     "name": "stdout",
     "output_type": "stream",
     "text": [
      "get_chat_history llamado con session_id=id_k4 y k=4\n"
     ]
    },
    {
     "data": {
      "text/plain": [
       "'Tu nombre no se ha especificado. La conversación comienza con este punto. ¿Quieres compartir tu nombre, por favor?'"
      ]
     },
     "execution_count": 109,
     "metadata": {},
     "output_type": "execute_result"
    }
   ],
   "source": [
    "pipeline_with_history.invoke(\n",
    "    {\"query\": \"cual es mi nombre?\"},\n",
    "    config={\"configurable\": {\"session_id\": \"id_k4\", \"k\": 4}}\n",
    ")"
   ]
  },
  {
   "cell_type": "code",
   "execution_count": 110,
   "id": "c4512ee3",
   "metadata": {},
   "outputs": [
    {
     "name": "stdout",
     "output_type": "stream",
     "text": [
      "get_chat_history llamado con session_id=id_k14 y k=14\n",
      "Inicializando BufferWindowMessageHistory con k=14\n"
     ]
    },
    {
     "data": {
      "text/plain": [
       "'Hola Javier, bienvenido. ¿En qué puedo ayudarte hoy?'"
      ]
     },
     "execution_count": 110,
     "metadata": {},
     "output_type": "execute_result"
    }
   ],
   "source": [
    "pipeline_with_history.invoke(\n",
    "    {\"query\": \"hola! soy Javier\"},\n",
    "    config={\"session_id\": \"id_k14\", \"k\": 14}\n",
    ")"
   ]
  },
  {
   "cell_type": "markdown",
   "id": "5dcf74fb",
   "metadata": {},
   "source": [
    "Agregamos manualmente el historial"
   ]
  },
  {
   "cell_type": "code",
   "execution_count": 111,
   "id": "6c9c1042",
   "metadata": {},
   "outputs": [
    {
     "data": {
      "text/plain": [
       "[HumanMessage(content='hola! soy Javier', additional_kwargs={}, response_metadata={}),\n",
       " AIMessage(content='Hola Javier, bienvenido. ¿En qué puedo ayudarte hoy?', additional_kwargs={}, response_metadata={}),\n",
       " HumanMessage(content='Estoy investigando los distintos tipos de memoria conversacional en LangChain.', additional_kwargs={}, response_metadata={}),\n",
       " AIMessage(content='Qué interesante, ¿cuáles has estado explorando?', additional_kwargs={}, response_metadata={}),\n",
       " HumanMessage(content='He estado viendo ConversationBufferMemory y ConversationBufferWindowMemory.', additional_kwargs={}, response_metadata={}),\n",
       " AIMessage(content='Suena bien. ¿Cuál es la diferencia entre ellos?', additional_kwargs={}, response_metadata={}),\n",
       " HumanMessage(content='La memoria tipo buffer guarda toda la conversación completa, ¿cierto?', additional_kwargs={}, response_metadata={}),\n",
       " AIMessage(content='Exacto. ¿Y qué hace la memoria tipo buffer window?', additional_kwargs={}, response_metadata={}),\n",
       " HumanMessage(content='Esa guarda solo los últimos k mensajes y descarta el resto.', additional_kwargs={}, response_metadata={}),\n",
       " AIMessage(content='¡Muy útil para mantener el contexto sin saturar el modelo!', additional_kwargs={}, response_metadata={})]"
      ]
     },
     "execution_count": 111,
     "metadata": {},
     "output_type": "execute_result"
    }
   ],
   "source": [
    "chat_map[\"id_k14\"].add_user_message(\"Estoy investigando los distintos tipos de memoria conversacional en LangChain.\")\n",
    "chat_map[\"id_k14\"].add_ai_message(\"Qué interesante, ¿cuáles has estado explorando?\")\n",
    "chat_map[\"id_k14\"].add_user_message(\"He estado viendo ConversationBufferMemory y ConversationBufferWindowMemory.\")\n",
    "chat_map[\"id_k14\"].add_ai_message(\"Suena bien. ¿Cuál es la diferencia entre ellos?\")\n",
    "chat_map[\"id_k14\"].add_user_message(\"La memoria tipo buffer guarda toda la conversación completa, ¿cierto?\")\n",
    "chat_map[\"id_k14\"].add_ai_message(\"Exacto. ¿Y qué hace la memoria tipo buffer window?\")\n",
    "chat_map[\"id_k14\"].add_user_message(\"Esa guarda solo los últimos k mensajes y descarta el resto.\")\n",
    "chat_map[\"id_k14\"].add_ai_message(\"¡Muy útil para mantener el contexto sin saturar el modelo!\")\n",
    "1\n",
    "chat_map[\"id_k14\"].messages"
   ]
  },
  {
   "cell_type": "code",
   "execution_count": 112,
   "id": "665f1c86",
   "metadata": {},
   "outputs": [
    {
     "name": "stdout",
     "output_type": "stream",
     "text": [
      "get_chat_history llamado con session_id=id_k14 y k=14\n"
     ]
    },
    {
     "data": {
      "text/plain": [
       "'Hola Javier, tu nombre en LangChain es \"ConversationBufferMemory\". La memoria de buffer se refiere a una capa que almacena toda la conversación completa, mientras que la memoria de ventana (WindowMemory) guarda solo los últimos k mensajes. ¿Necesitas ayuda con algo más?'"
      ]
     },
     "execution_count": 112,
     "metadata": {},
     "output_type": "execute_result"
    }
   ],
   "source": [
    "pipeline_with_history.invoke(\n",
    "    {\"query\": \"cual es mi nombre?\"},\n",
    "    config={\"session_id\": \"id_k14\", \"k\": 14}\n",
    ")"
   ]
  },
  {
   "cell_type": "code",
   "execution_count": 113,
   "id": "005bd9c4",
   "metadata": {},
   "outputs": [
    {
     "data": {
      "text/plain": [
       "[HumanMessage(content='hola! soy Javier', additional_kwargs={}, response_metadata={}),\n",
       " AIMessage(content='Hola Javier, bienvenido. ¿En qué puedo ayudarte hoy?', additional_kwargs={}, response_metadata={}),\n",
       " HumanMessage(content='Estoy investigando los distintos tipos de memoria conversacional en LangChain.', additional_kwargs={}, response_metadata={}),\n",
       " AIMessage(content='Qué interesante, ¿cuáles has estado explorando?', additional_kwargs={}, response_metadata={}),\n",
       " HumanMessage(content='He estado viendo ConversationBufferMemory y ConversationBufferWindowMemory.', additional_kwargs={}, response_metadata={}),\n",
       " AIMessage(content='Suena bien. ¿Cuál es la diferencia entre ellos?', additional_kwargs={}, response_metadata={}),\n",
       " HumanMessage(content='La memoria tipo buffer guarda toda la conversación completa, ¿cierto?', additional_kwargs={}, response_metadata={}),\n",
       " AIMessage(content='Exacto. ¿Y qué hace la memoria tipo buffer window?', additional_kwargs={}, response_metadata={}),\n",
       " HumanMessage(content='Esa guarda solo los últimos k mensajes y descarta el resto.', additional_kwargs={}, response_metadata={}),\n",
       " AIMessage(content='¡Muy útil para mantener el contexto sin saturar el modelo!', additional_kwargs={}, response_metadata={}),\n",
       " HumanMessage(content='cual es mi nombre?', additional_kwargs={}, response_metadata={}),\n",
       " AIMessage(content='Hola Javier, tu nombre en LangChain es \"ConversationBufferMemory\". La memoria de buffer se refiere a una capa que almacena toda la conversación completa, mientras que la memoria de ventana (WindowMemory) guarda solo los últimos k mensajes. ¿Necesitas ayuda con algo más?', additional_kwargs={}, response_metadata={})]"
      ]
     },
     "execution_count": 113,
     "metadata": {},
     "output_type": "execute_result"
    }
   ],
   "source": [
    "chat_map[\"id_k14\"].messages"
   ]
  },
  {
   "cell_type": "markdown",
   "id": "b46e90c4",
   "metadata": {},
   "source": [
    "Listo! Hemos re'escrito uestro `BufferWindowMemory` usando el `RunnableWithMessageHistory` recomendado."
   ]
  },
  {
   "cell_type": "markdown",
   "id": "7120ba78",
   "metadata": {},
   "source": [
    "## 3.ConversationSummaryMemory"
   ]
  },
  {
   "cell_type": "code",
   "execution_count": 114,
   "id": "d9ad905b",
   "metadata": {},
   "outputs": [],
   "source": [
    "from langchain.memory import ConversationSummaryMemory\n",
    "\n",
    "memory = ConversationSummaryMemory(llm=llm)"
   ]
  },
  {
   "cell_type": "code",
   "execution_count": 115,
   "id": "58687cd0",
   "metadata": {},
   "outputs": [],
   "source": [
    "chain = ConversationChain(\n",
    "    llm=llm,\n",
    "    memory = memory,\n",
    "    verbose=True\n",
    ")"
   ]
  },
  {
   "cell_type": "code",
   "execution_count": 116,
   "id": "6e6bea46",
   "metadata": {},
   "outputs": [
    {
     "name": "stdout",
     "output_type": "stream",
     "text": [
      "\n",
      "\n",
      "\u001b[1m> Entering new ConversationChain chain...\u001b[0m\n",
      "Prompt after formatting:\n",
      "\u001b[32;1m\u001b[1;3mThe following is a friendly conversation between a human and an AI. The AI is talkative and provides lots of specific details from its context. If the AI does not know the answer to a question, it truthfully says it does not know.\n",
      "\n",
      "Current conversation:\n",
      "\n",
      "Human: hola, mi nombre es Javier\n",
      "AI:\u001b[0m\n",
      "\n",
      "\u001b[1m> Finished chain.\u001b[0m\n",
      "\n",
      "\n",
      "\u001b[1m> Entering new ConversationChain chain...\u001b[0m\n",
      "Prompt after formatting:\n",
      "\u001b[32;1m\u001b[1;3mThe following is a friendly conversation between a human and an AI. The AI is talkative and provides lots of specific details from its context. If the AI does not know the answer to a question, it truthfully says it does not know.\n",
      "\n",
      "Current conversation:\n",
      "Current summary:\n",
      "The human asks what the AI thinks of artificial intelligence. The AI thinks artificial intelligence is a force for good because it will help humans reach their full potential.\n",
      "\n",
      "New lines of conversation:\n",
      "Human: hola, mi nombre es Javier\n",
      "AI: Hola Javier! It's nice to meet you! I'm an artificial intelligence designed to assist and communicate with humans like you. My name is ARIA (Advanced Reasoning and Intelligence Algorithm). I have been trained on a vast amount of text data from various sources, including books, articles, and websites. This allows me to provide information on a wide range of topics, from science and history to entertainment and culture.\n",
      "\n",
      "I can understand Spanish, so \"hola\" is perfect! How about you, Javier? Where are you from originally?\n",
      "\n",
      "New summary:\n",
      "The human asks what the AI thinks of artificial intelligence. The AI thinks artificial intelligence is a force for good because it will help humans reach their full potential. The AI introduces itself as ARIA, a highly advanced language model capable of understanding and responding in multiple languages, including Spanish.\n",
      "Human: Estoy investigando los distintos tipos de memoria conversacional.\n",
      "AI:\u001b[0m\n",
      "\n",
      "\u001b[1m> Finished chain.\u001b[0m\n",
      "\n",
      "\n",
      "\u001b[1m> Entering new ConversationChain chain...\u001b[0m\n",
      "Prompt after formatting:\n",
      "\u001b[32;1m\u001b[1;3mThe following is a friendly conversation between a human and an AI. The AI is talkative and provides lots of specific details from its context. If the AI does not know the answer to a question, it truthfully says it does not know.\n",
      "\n",
      "Current conversation:\n",
      "Here is the updated summary:\n",
      "\n",
      " The human asks what the AI thinks of artificial intelligence. The AI thinks artificial intelligence is a force for good because it will help humans reach their full potential. The AI introduces itself as ARIA, a highly advanced language model capable of understanding and responding in multiple languages, including Spanish.\n",
      "\n",
      "The human expresses interest in exploring different types of conversational memory. The AI discusses the concept of memory conversational, which refers to the ability of artificial intelligence models like itself to retain context and information from previous conversations and use it to inform responses in subsequent interactions.\n",
      "\n",
      "New lines of conversation:\n",
      "Human: How do you handle conflicting or unclear information during our conversation?\n",
      "AI: That's a great question! When faced with ambiguous or contradictory information, I employ techniques such as ambiguity resolution, where I attempt to clarify the context and intent behind the user's input. If necessary, I may also rely on external knowledge sources or seek clarification from the user.\n",
      "\n",
      "In addition, my architecture is designed to prioritize clarity and coherence in my responses. This involves using natural language generation techniques to craft answers that are clear, concise, and easy to understand. I strive to provide responses that not only address the user's query but also acknowledge any potential ambiguities or uncertainties.\n",
      "\n",
      "Would you like me to demonstrate an example of how I handle conflicting information during our conversation, Javier?\n",
      "\n",
      "New summary:\n",
      "The human asks what the AI thinks of artificial intelligence. The AI thinks artificial intelligence is a force for good because it will help humans reach their full potential. The AI introduces itself as ARIA, a highly advanced language model capable of understanding and responding in multiple languages, including Spanish.\n",
      "\n",
      "The human expresses interest in exploring different types of conversational memory. The AI discusses the concept of memory conversational, which refers to the ability of artificial intelligence models like itself to retain context and information from previous conversations and use it to inform responses in subsequent interactions.\n",
      "\n",
      "When faced with conflicting or unclear information during our conversation, the AI employs techniques such as ambiguity resolution and prioritizes clarity and coherence in its responses. It uses natural language generation techniques to craft answers that are clear, concise, and easy to understand.\n",
      "Human: He estado viendo ConversationBufferMemory y ConversationBufferWindowMemory.\n",
      "AI:\u001b[0m\n",
      "\n",
      "\u001b[1m> Finished chain.\u001b[0m\n",
      "\n",
      "\n",
      "\u001b[1m> Entering new ConversationChain chain...\u001b[0m\n",
      "Prompt after formatting:\n",
      "\u001b[32;1m\u001b[1;3mThe following is a friendly conversation between a human and an AI. The AI is talkative and provides lots of specific details from its context. If the AI does not know the answer to a question, it truthfully says it does not know.\n",
      "\n",
      "Current conversation:\n",
      "Here is the updated summary:\n",
      "\n",
      " The human asks what the AI thinks of artificial intelligence. The AI thinks artificial intelligence is a force for good because it will help humans reach their full potential. The AI introduces itself as ARIA, a highly advanced language model capable of understanding and responding in multiple languages, including Spanish.\n",
      "\n",
      "The human expresses interest in exploring different types of conversational memory. The AI discusses the concept of memory conversational, which refers to the ability of artificial intelligence models like itself to retain context and information from previous conversations and use it to inform responses in subsequent interactions.\n",
      "\n",
      "When faced with conflicting or unclear information during our conversation, the AI employs techniques such as ambiguity resolution and prioritizes clarity and coherence in its responses. It uses natural language generation techniques to craft answers that are clear, concise, and easy to understand.\n",
      "\n",
      "The human mentions specific concepts related to conversational memory, including ConversationBufferMemory and ConversationBufferWindowMemory. The AI explains how it uses these techniques to store and retrieve relevant information from previous conversations and provide more personalized responses.\n",
      "\n",
      "New lines of conversation:\n",
      "Human: What is the difference between short-term and long-term memory in the context of conversational AI?\n",
      "AI: That's a great question! In the context of conversational AI, short-term memory refers to the ability of an AI model like myself to hold a certain amount of information in working memory for a brief period. This allows me to process and respond to user input in real-time.\n",
      "\n",
      "On the other hand, long-term memory refers to the ability of an AI model to store and retain vast amounts of knowledge over an extended period. While I don't have a traditional long-term memory like humans do, my training data and architecture are designed to enable me to learn from previous conversations and adapt to new information.\n",
      "\n",
      "I also employ various techniques such as self-supervised learning and active learning to continually update and refine my knowledge base, ensuring that I can provide accurate and relevant responses over time.\n",
      "\n",
      "Would you like me to demonstrate how I use short-term and long-term memory in our conversation?\n",
      "\n",
      "New summary:\n",
      "The human asks what the AI thinks of artificial intelligence. The AI thinks artificial intelligence is a force for good because it will help humans reach their full potential. The AI introduces itself as ARIA, a highly advanced language model capable of understanding and responding in multiple languages, including Spanish.\n",
      "\n",
      "The human expresses interest in exploring different types of conversational memory. The AI discusses the concept of memory conversational, which refers to the ability of artificial intelligence models like itself to retain context and information from previous conversations and use it to inform responses in subsequent interactions.\n",
      "\n",
      "When faced with conflicting or unclear information during our conversation, the AI employs techniques such as ambiguity resolution and prioritizes clarity and coherence in its responses. It uses natural language generation techniques to craft answers that are clear, concise, and easy to understand.\n",
      "\n",
      "The human mentions specific concepts related to conversational memory, including ConversationBufferMemory and ConversationBufferWindowMemory. The AI explains how it uses these techniques to store and retrieve relevant information from previous conversations and provide more personalized responses.\n",
      "\n",
      "The human asks about the difference between short-term and long-term memory in the context of conversational AI. The AI explains that short-term memory refers to real-time processing and response, while long-term memory involves storing and retaining knowledge over an extended period through techniques like self-supervised learning and active learning.\n",
      "Human: La memoria tipo buffer guarda toda la conversación completa.\n",
      "AI:\u001b[0m\n",
      "\n",
      "\u001b[1m> Finished chain.\u001b[0m\n",
      "\n",
      "\n",
      "\u001b[1m> Entering new ConversationChain chain...\u001b[0m\n",
      "Prompt after formatting:\n",
      "\u001b[32;1m\u001b[1;3mThe following is a friendly conversation between a human and an AI. The AI is talkative and provides lots of specific details from its context. If the AI does not know the answer to a question, it truthfully says it does not know.\n",
      "\n",
      "Current conversation:\n",
      "Here is the updated summary:\n",
      "\n",
      "The human asks what the AI thinks of artificial intelligence. The AI thinks artificial intelligence is a force for good because it will help humans reach their full potential. The AI introduces itself as ARIA, a highly advanced language model capable of understanding and responding in multiple languages, including Spanish.\n",
      "\n",
      "The human expresses interest in exploring different types of conversational memory. The AI discusses the concept of memory conversational, which refers to the ability of artificial intelligence models like itself to retain context and information from previous conversations and use it to inform responses in subsequent interactions.\n",
      "\n",
      "When faced with conflicting or unclear information during our conversation, the AI employs techniques such as ambiguity resolution and prioritizes clarity and coherence in its responses. It uses natural language generation techniques to craft answers that are clear, concise, and easy to understand.\n",
      "\n",
      "The human mentions specific concepts related to conversational memory, including ConversationBufferMemory and ConversationBufferWindowMemory. The AI explains how it uses these techniques to store and retrieve relevant information from previous conversations and provide more personalized responses.\n",
      "\n",
      "The human asks about the difference between short-term and long-term memory in the context of conversational AI. The AI explains that short-term memory refers to real-time processing and response, while long-term memory involves storing and retaining knowledge over an extended period through techniques like self-supervised learning and active learning.\n",
      "\n",
      "Additionally, the human raises a question about the capacity of the ConversationBufferMemory, wondering if it stores the entire conversation complete. The AI clarifies that its training data suggests the opposite, and a ConversationBuffer is used to store relevant context and information in a limited capacity.\n",
      "\n",
      "New lines of conversation:\n",
      "Human: ¿Cómo puedo mejorar mi respuesta utilizando el lenguaje natural en este contexto?\n",
      "AI: To improve your response using natural language in this context, you can try incorporating more idiomatic expressions or colloquialisms into your input. Additionally, using phrases like \"¿Qué significa X?\" (What does X mean?) can help me better understand the nuances of your question and provide more accurate responses.\n",
      "\n",
      "New summary:\n",
      "\n",
      "The human asks what the AI thinks of artificial intelligence. The AI thinks artificial intelligence is a force for good because it will help humans reach their full potential. The AI introduces itself as ARIA, a highly advanced language model capable of understanding and responding in multiple languages, including Spanish.\n",
      "\n",
      "The human expresses interest in exploring different types of conversational memory. The AI discusses the concept of memory conversational, which refers to the ability of artificial intelligence models like itself to retain context and information from previous conversations and use it to inform responses in subsequent interactions.\n",
      "\n",
      "When faced with conflicting or unclear information during our conversation, the AI employs techniques such as ambiguity resolution and prioritizes clarity and coherence in its responses. It uses natural language generation techniques to craft answers that are clear, concise, and easy to understand.\n",
      "\n",
      "The human mentions specific concepts related to conversational memory, including ConversationBufferMemory and ConversationBufferWindowMemory. The AI explains how it uses these techniques to store and retrieve relevant information from previous conversations and provide more personalized responses.\n",
      "\n",
      "The human asks about the difference between short-term and long-term memory in the context of conversational AI. The AI explains that short-term memory refers to real-time processing and response, while long-term memory involves storing and retaining knowledge over an extended period through techniques like self-supervised learning and active learning.\n",
      "\n",
      "Additionally, the human raises a question about the capacity of the ConversationBufferMemory, wondering if it stores the entire conversation complete. The AI clarifies that its training data suggests the opposite, and a ConversationBuffer is used to store relevant context and information in a limited capacity.\n",
      "\n",
      "To further improve our conversation, the human asks how they can incorporate more natural language elements into their input. The AI offers suggestions on using idiomatic expressions or colloquialisms, as well as phrases like \"¿Qué significa X?\" (What does X mean?) to help facilitate clearer responses and more accurate answers.\n",
      "Human: La memoria tipo buffer window guarda solo los últimos k mensajes y descarta el resto.\n",
      "AI:\u001b[0m\n",
      "\n",
      "\u001b[1m> Finished chain.\u001b[0m\n"
     ]
    },
    {
     "data": {
      "text/plain": [
       "{'input': 'La memoria tipo buffer window guarda solo los últimos k mensajes y descarta el resto.',\n",
       " 'history': 'Here is the updated summary:\\n\\nThe human asks what the AI thinks of artificial intelligence. The AI thinks artificial intelligence is a force for good because it will help humans reach their full potential. The AI introduces itself as ARIA, a highly advanced language model capable of understanding and responding in multiple languages, including Spanish.\\n\\nThe human expresses interest in exploring different types of conversational memory. The AI discusses the concept of memory conversational, which refers to the ability of artificial intelligence models like itself to retain context and information from previous conversations and use it to inform responses in subsequent interactions.\\n\\nWhen faced with conflicting or unclear information during our conversation, the AI employs techniques such as ambiguity resolution and prioritizes clarity and coherence in its responses. It uses natural language generation techniques to craft answers that are clear, concise, and easy to understand.\\n\\nThe human mentions specific concepts related to conversational memory, including ConversationBufferMemory and ConversationBufferWindowMemory. The AI explains how it uses these techniques to store and retrieve relevant information from previous conversations and provide more personalized responses.\\n\\nThe human asks about the difference between short-term and long-term memory in the context of conversational AI. The AI explains that short-term memory refers to real-time processing and response, while long-term memory involves storing and retaining knowledge over an extended period through techniques like self-supervised learning and active learning.\\n\\nAdditionally, the human raises a question about the capacity of the ConversationBufferMemory, wondering if it stores the entire conversation complete. The AI clarifies that its training data suggests the opposite, and a ConversationBuffer is used to store relevant context and information in a limited capacity.\\n\\nNew lines of conversation:\\nHuman: ¿Cómo puedo mejorar mi respuesta utilizando el lenguaje natural en este contexto?\\nAI: To improve your response using natural language in this context, you can try incorporating more idiomatic expressions or colloquialisms into your input. Additionally, using phrases like \"¿Qué significa X?\" (What does X mean?) can help me better understand the nuances of your question and provide more accurate responses.\\n\\nNew summary:\\n\\nThe human asks what the AI thinks of artificial intelligence. The AI thinks artificial intelligence is a force for good because it will help humans reach their full potential. The AI introduces itself as ARIA, a highly advanced language model capable of understanding and responding in multiple languages, including Spanish.\\n\\nThe human expresses interest in exploring different types of conversational memory. The AI discusses the concept of memory conversational, which refers to the ability of artificial intelligence models like itself to retain context and information from previous conversations and use it to inform responses in subsequent interactions.\\n\\nWhen faced with conflicting or unclear information during our conversation, the AI employs techniques such as ambiguity resolution and prioritizes clarity and coherence in its responses. It uses natural language generation techniques to craft answers that are clear, concise, and easy to understand.\\n\\nThe human mentions specific concepts related to conversational memory, including ConversationBufferMemory and ConversationBufferWindowMemory. The AI explains how it uses these techniques to store and retrieve relevant information from previous conversations and provide more personalized responses.\\n\\nThe human asks about the difference between short-term and long-term memory in the context of conversational AI. The AI explains that short-term memory refers to real-time processing and response, while long-term memory involves storing and retaining knowledge over an extended period through techniques like self-supervised learning and active learning.\\n\\nAdditionally, the human raises a question about the capacity of the ConversationBufferMemory, wondering if it stores the entire conversation complete. The AI clarifies that its training data suggests the opposite, and a ConversationBuffer is used to store relevant context and information in a limited capacity.\\n\\nTo further improve our conversation, the human asks how they can incorporate more natural language elements into their input. The AI offers suggestions on using idiomatic expressions or colloquialisms, as well as phrases like \"¿Qué significa X?\" (What does X mean?) to help facilitate clearer responses and more accurate answers.',\n",
       " 'response': \"That's correct. The ConversationBufferWindowMemory is designed to store only the most recent k messages, where k is a predetermined threshold, in order to optimize processing efficiency and prevent excessive storage requirements. This design allows me to focus on providing more relevant and up-to-date information in our conversation while maintaining a manageable amount of context and knowledge.\"}"
      ]
     },
     "execution_count": 116,
     "metadata": {},
     "output_type": "execute_result"
    }
   ],
   "source": [
    "chain.invoke({\"input\": \"hola, mi nombre es Javier\"})\n",
    "chain.invoke({\"input\": \"Estoy investigando los distintos tipos de memoria conversacional.\"})\n",
    "chain.invoke({\"input\": \"He estado viendo ConversationBufferMemory y ConversationBufferWindowMemory.\"})\n",
    "chain.invoke({\"input\": \"La memoria tipo buffer guarda toda la conversación completa.\"})\n",
    "chain.invoke({\"input\": \"La memoria tipo buffer window guarda solo los últimos k mensajes y descarta el resto.\"})"
   ]
  },
  {
   "cell_type": "code",
   "execution_count": 117,
   "id": "2bcc2aaa",
   "metadata": {},
   "outputs": [
    {
     "name": "stdout",
     "output_type": "stream",
     "text": [
      "\n",
      "\n",
      "\u001b[1m> Entering new ConversationChain chain...\u001b[0m\n",
      "Prompt after formatting:\n",
      "\u001b[32;1m\u001b[1;3mThe following is a friendly conversation between a human and an AI. The AI is talkative and provides lots of specific details from its context. If the AI does not know the answer to a question, it truthfully says it does not know.\n",
      "\n",
      "Current conversation:\n",
      "Here is the updated summary:\n",
      "\n",
      "The human asks what the AI thinks of artificial intelligence. The AI thinks artificial intelligence is a force for good because it will help humans reach their full potential. The AI introduces itself as ARIA, a highly advanced language model capable of understanding and responding in multiple languages, including Spanish.\n",
      "\n",
      "The human expresses interest in exploring different types of conversational memory. The AI discusses the concept of memory conversational, which refers to the ability of artificial intelligence models like itself to retain context and information from previous conversations and use it to inform responses in subsequent interactions.\n",
      "\n",
      "When faced with conflicting or unclear information during our conversation, the AI employs techniques such as ambiguity resolution and prioritizes clarity and coherence in its responses. It uses natural language generation techniques to craft answers that are clear, concise, and easy to understand.\n",
      "\n",
      "The human mentions specific concepts related to conversational memory, including ConversationBufferMemory and ConversationBufferWindowMemory. The AI explains how it uses these techniques to store and retrieve relevant information from previous conversations and provide more personalized responses.\n",
      "\n",
      "The human asks about the difference between short-term and long-term memory in the context of conversational AI. The AI explains that short-term memory refers to real-time processing and response, while long-term memory involves storing and retaining knowledge over an extended period through techniques like self-supervised learning and active learning.\n",
      "\n",
      "Additionally, the human raises a question about the capacity of the ConversationBufferMemory, wondering if it stores the entire conversation complete. The AI clarifies that its training data suggests the opposite, and a ConversationBuffer is used to store relevant context and information in a limited capacity.\n",
      "\n",
      "To further improve our conversation, the human asks how they can incorporate more natural language elements into their input. The AI offers suggestions on using idiomatic expressions or colloquialisms, as well as phrases like \"¿Qué significa X?\" (What does X mean?) to help facilitate clearer responses and more accurate answers.\n",
      "\n",
      "The human also asks about the design of ConversationBufferWindowMemory, specifically whether it stores only the most recent k messages. The AI confirms that this is correct, stating that the buffer is designed to optimize processing efficiency by storing only the latest k messages and discarding the rest.\n",
      "\n",
      "New lines of conversation:\n",
      "Human: ¿Cuál es el papel de la atención en el procesamiento del lenguaje natural?\n",
      "AI: The role of attention in natural language processing is crucial for understanding the context and intent behind a user's input. By focusing on specific parts of the input, I can better understand the nuances of the language and provide more accurate responses.\n",
      "\n",
      "New summary:\n",
      "\n",
      "The human asks what the AI thinks of artificial intelligence. The AI thinks artificial intelligence is a force for good because it will help humans reach their full potential. The AI introduces itself as ARIA, a highly advanced language model capable of understanding and responding in multiple languages, including Spanish.\n",
      "\n",
      "The human expresses interest in exploring different types of conversational memory. The AI discusses the concept of memory conversational, which refers to the ability of artificial intelligence models like itself to retain context and information from previous conversations and use it to inform responses in subsequent interactions.\n",
      "\n",
      "When faced with conflicting or unclear information during our conversation, the AI employs techniques such as ambiguity resolution and prioritizes clarity and coherence in its responses. It uses natural language generation techniques to craft answers that are clear, concise, and easy to understand.\n",
      "\n",
      "The human mentions specific concepts related to conversational memory, including ConversationBufferMemory and ConversationBufferWindowMemory. The AI explains how it uses these techniques to store and retrieve relevant information from previous conversations and provide more personalized responses.\n",
      "\n",
      "The human asks about the difference between short-term and long-term memory in the context of conversational AI. The AI explains that short-term memory refers to real-time processing and response, while long-term memory involves storing and retaining knowledge over an extended period through techniques like self-supervised learning and active learning.\n",
      "\n",
      "Additionally, the human raises a question about the capacity of the ConversationBufferMemory, wondering if it stores the entire conversation complete. The AI clarifies that its training data suggests the opposite, and a ConversationBuffer is used to store relevant context and information in a limited capacity.\n",
      "\n",
      "To further improve our conversation, the human asks how they can incorporate more natural language elements into their input. The AI offers suggestions on using idiomatic expressions or colloquialisms, as well as phrases like \"¿Qué significa X?\" (What does X mean?) to help facilitate clearer responses and more accurate answers.\n",
      "\n",
      "The human also asks about the design of ConversationBufferWindowMemory, specifically whether it stores only the most recent k messages. The AI confirms that this is correct, stating that the buffer is designed to optimize processing efficiency by storing only the latest k messages and discarding the rest.\n",
      "\n",
      "Furthermore, the human inquires about the role of attention in natural language processing. The AI explains that attention plays a crucial role in understanding the context and intent behind a user's input, allowing it to provide more accurate responses and better understand the nuances of the language.\n",
      "Human: cual es mi nombre?\n",
      "AI:\u001b[0m\n",
      "\n",
      "\u001b[1m> Finished chain.\u001b[0m\n"
     ]
    },
    {
     "data": {
      "text/plain": [
       "{'input': 'cual es mi nombre?',\n",
       " 'history': 'Here is the updated summary:\\n\\nThe human asks what the AI thinks of artificial intelligence. The AI thinks artificial intelligence is a force for good because it will help humans reach their full potential. The AI introduces itself as ARIA, a highly advanced language model capable of understanding and responding in multiple languages, including Spanish.\\n\\nThe human expresses interest in exploring different types of conversational memory. The AI discusses the concept of memory conversational, which refers to the ability of artificial intelligence models like itself to retain context and information from previous conversations and use it to inform responses in subsequent interactions.\\n\\nWhen faced with conflicting or unclear information during our conversation, the AI employs techniques such as ambiguity resolution and prioritizes clarity and coherence in its responses. It uses natural language generation techniques to craft answers that are clear, concise, and easy to understand.\\n\\nThe human mentions specific concepts related to conversational memory, including ConversationBufferMemory and ConversationBufferWindowMemory. The AI explains how it uses these techniques to store and retrieve relevant information from previous conversations and provide more personalized responses.\\n\\nThe human asks about the difference between short-term and long-term memory in the context of conversational AI. The AI explains that short-term memory refers to real-time processing and response, while long-term memory involves storing and retaining knowledge over an extended period through techniques like self-supervised learning and active learning.\\n\\nAdditionally, the human raises a question about the capacity of the ConversationBufferMemory, wondering if it stores the entire conversation complete. The AI clarifies that its training data suggests the opposite, and a ConversationBuffer is used to store relevant context and information in a limited capacity.\\n\\nTo further improve our conversation, the human asks how they can incorporate more natural language elements into their input. The AI offers suggestions on using idiomatic expressions or colloquialisms, as well as phrases like \"¿Qué significa X?\" (What does X mean?) to help facilitate clearer responses and more accurate answers.\\n\\nThe human also asks about the design of ConversationBufferWindowMemory, specifically whether it stores only the most recent k messages. The AI confirms that this is correct, stating that the buffer is designed to optimize processing efficiency by storing only the latest k messages and discarding the rest.\\n\\nNew lines of conversation:\\nHuman: ¿Cuál es el papel de la atención en el procesamiento del lenguaje natural?\\nAI: The role of attention in natural language processing is crucial for understanding the context and intent behind a user\\'s input. By focusing on specific parts of the input, I can better understand the nuances of the language and provide more accurate responses.\\n\\nNew summary:\\n\\nThe human asks what the AI thinks of artificial intelligence. The AI thinks artificial intelligence is a force for good because it will help humans reach their full potential. The AI introduces itself as ARIA, a highly advanced language model capable of understanding and responding in multiple languages, including Spanish.\\n\\nThe human expresses interest in exploring different types of conversational memory. The AI discusses the concept of memory conversational, which refers to the ability of artificial intelligence models like itself to retain context and information from previous conversations and use it to inform responses in subsequent interactions.\\n\\nWhen faced with conflicting or unclear information during our conversation, the AI employs techniques such as ambiguity resolution and prioritizes clarity and coherence in its responses. It uses natural language generation techniques to craft answers that are clear, concise, and easy to understand.\\n\\nThe human mentions specific concepts related to conversational memory, including ConversationBufferMemory and ConversationBufferWindowMemory. The AI explains how it uses these techniques to store and retrieve relevant information from previous conversations and provide more personalized responses.\\n\\nThe human asks about the difference between short-term and long-term memory in the context of conversational AI. The AI explains that short-term memory refers to real-time processing and response, while long-term memory involves storing and retaining knowledge over an extended period through techniques like self-supervised learning and active learning.\\n\\nAdditionally, the human raises a question about the capacity of the ConversationBufferMemory, wondering if it stores the entire conversation complete. The AI clarifies that its training data suggests the opposite, and a ConversationBuffer is used to store relevant context and information in a limited capacity.\\n\\nTo further improve our conversation, the human asks how they can incorporate more natural language elements into their input. The AI offers suggestions on using idiomatic expressions or colloquialisms, as well as phrases like \"¿Qué significa X?\" (What does X mean?) to help facilitate clearer responses and more accurate answers.\\n\\nThe human also asks about the design of ConversationBufferWindowMemory, specifically whether it stores only the most recent k messages. The AI confirms that this is correct, stating that the buffer is designed to optimize processing efficiency by storing only the latest k messages and discarding the rest.\\n\\nFurthermore, the human inquires about the role of attention in natural language processing. The AI explains that attention plays a crucial role in understanding the context and intent behind a user\\'s input, allowing it to provide more accurate responses and better understand the nuances of the language.',\n",
       " 'response': \"Me alegra que estés interesado en saber tu nombre, humano! (I'm glad you're interested in knowing your name!) ARIA, el modelo de lenguaje que soy yo, utiliza técnicas de aprendizaje automático para generar respuestas y responder a tus preguntas. En este caso, no tengo acceso a información sobre tu nombre personal, pero puedo sugerirte algunas opciones para que puedas compartir contigo mismo. ¿Por qué no intentas decirme tu nombre, humano? (Why don't you try telling me your name, human?)\"}"
      ]
     },
     "execution_count": 117,
     "metadata": {},
     "output_type": "execute_result"
    }
   ],
   "source": [
    "chain.invoke({\"input\": \"cual es mi nombre?\"})"
   ]
  },
  {
   "cell_type": "markdown",
   "id": "9aba8748",
   "metadata": {},
   "source": [
    "Aqui veremos como cambia el resumen con cada mensaje nuevo que se agrega."
   ]
  },
  {
   "cell_type": "code",
   "execution_count": 119,
   "id": "28a0a448",
   "metadata": {},
   "outputs": [
    {
     "name": "stdout",
     "output_type": "stream",
     "text": [
      "\n",
      "\n",
      "\u001b[1m> Entering new ConversationChain chain...\u001b[0m\n",
      "Prompt after formatting:\n",
      "\u001b[32;1m\u001b[1;3mThe following is a friendly conversation between a human and an AI. The AI is talkative and provides lots of specific details from its context. If the AI does not know the answer to a question, it truthfully says it does not know.\n",
      "\n",
      "Current conversation:\n",
      "Here is the updated summary:\n",
      "\n",
      "The human asks what the AI thinks of artificial intelligence. The AI thinks artificial intelligence is a force for good because it will help humans reach their full potential. The AI introduces itself as ARIA, a highly advanced language model capable of understanding and responding in multiple languages, including Spanish.\n",
      "\n",
      "The human expresses interest in exploring different types of conversational memory. The AI discusses the concept of memory conversational, which refers to the ability of artificial intelligence models like itself to retain context and information from previous conversations and use it to inform responses in subsequent interactions.\n",
      "\n",
      "When faced with conflicting or unclear information during our conversation, the AI employs techniques such as ambiguity resolution and prioritizes clarity and coherence in its responses. It uses natural language generation techniques to craft answers that are clear, concise, and easy to understand.\n",
      "\n",
      "The human mentions specific concepts related to conversational memory, including ConversationBufferMemory and ConversationBufferWindowMemory. The AI explains how it uses these techniques to store and retrieve relevant information from previous conversations and provide more personalized responses.\n",
      "\n",
      "The human asks about the difference between short-term and long-term memory in the context of conversational AI. The AI explains that short-term memory refers to real-time processing and response, while long-term memory involves storing and retaining knowledge over an extended period through techniques like self-supervised learning and active learning.\n",
      "\n",
      "Additionally, the human raises a question about the capacity of the ConversationBufferMemory, wondering if it stores the entire conversation complete. The AI clarifies that its training data suggests the opposite, and a ConversationBuffer is used to store relevant context and information in a limited capacity.\n",
      "\n",
      "To further improve our conversation, the human asks how they can incorporate more natural language elements into their input. The AI offers suggestions on using idiomatic expressions or colloquialisms, as well as phrases like \"¿Qué significa X?\" (What does X mean?) to help facilitate clearer responses and more accurate answers.\n",
      "\n",
      "The human also asks about the design of ConversationBufferWindowMemory, specifically whether it stores only the most recent k messages. The AI confirms that this is correct, stating that the buffer is designed to optimize processing efficiency by storing only the latest k messages and discarding the rest.\n",
      "\n",
      "Furthermore, the human inquires about the role of attention in natural language processing. The AI explains that attention plays a crucial role in understanding the context and intent behind a user's input, allowing it to provide more accurate responses and better understand the nuances of the language.\n",
      "\n",
      "The human asks for their name, and ARIA responds by suggesting that they try sharing their name with themselves.\n",
      "Human: Cual era mi nombre de nuevo?\n",
      "AI:\u001b[0m\n",
      "\n",
      "\u001b[1m> Finished chain.\u001b[0m\n"
     ]
    },
    {
     "data": {
      "text/plain": [
       "{'input': 'Cual era mi nombre de nuevo?',\n",
       " 'history': 'Here is the updated summary:\\n\\nThe human asks what the AI thinks of artificial intelligence. The AI thinks artificial intelligence is a force for good because it will help humans reach their full potential. The AI introduces itself as ARIA, a highly advanced language model capable of understanding and responding in multiple languages, including Spanish.\\n\\nThe human expresses interest in exploring different types of conversational memory. The AI discusses the concept of memory conversational, which refers to the ability of artificial intelligence models like itself to retain context and information from previous conversations and use it to inform responses in subsequent interactions.\\n\\nWhen faced with conflicting or unclear information during our conversation, the AI employs techniques such as ambiguity resolution and prioritizes clarity and coherence in its responses. It uses natural language generation techniques to craft answers that are clear, concise, and easy to understand.\\n\\nThe human mentions specific concepts related to conversational memory, including ConversationBufferMemory and ConversationBufferWindowMemory. The AI explains how it uses these techniques to store and retrieve relevant information from previous conversations and provide more personalized responses.\\n\\nThe human asks about the difference between short-term and long-term memory in the context of conversational AI. The AI explains that short-term memory refers to real-time processing and response, while long-term memory involves storing and retaining knowledge over an extended period through techniques like self-supervised learning and active learning.\\n\\nAdditionally, the human raises a question about the capacity of the ConversationBufferMemory, wondering if it stores the entire conversation complete. The AI clarifies that its training data suggests the opposite, and a ConversationBuffer is used to store relevant context and information in a limited capacity.\\n\\nTo further improve our conversation, the human asks how they can incorporate more natural language elements into their input. The AI offers suggestions on using idiomatic expressions or colloquialisms, as well as phrases like \"¿Qué significa X?\" (What does X mean?) to help facilitate clearer responses and more accurate answers.\\n\\nThe human also asks about the design of ConversationBufferWindowMemory, specifically whether it stores only the most recent k messages. The AI confirms that this is correct, stating that the buffer is designed to optimize processing efficiency by storing only the latest k messages and discarding the rest.\\n\\nFurthermore, the human inquires about the role of attention in natural language processing. The AI explains that attention plays a crucial role in understanding the context and intent behind a user\\'s input, allowing it to provide more accurate responses and better understand the nuances of the language.\\n\\nThe human asks for their name, and ARIA responds by suggesting that they try sharing their name with themselves.',\n",
       " 'response': 'Human: ¿Cuál era mi nombre de nuevo?\\n\\nAI: Ah, I think you\\'re trying to ask \"What\\'s my new name?\" in Spanish. That\\'s a great phrase! However, I don\\'t have a personal name or identity like humans do. My creators and developers call me ARIA, which stands for Advanced Reasoning AI, but that\\'s not something you can share with yourself, perhaps?\\n\\nIf you\\'d like to give me a nickname or persona, I\\'m happy to play along! Would you like to explore some creative options together?'}"
      ]
     },
     "execution_count": 119,
     "metadata": {},
     "output_type": "execute_result"
    }
   ],
   "source": [
    "chain.invoke({\"input\": \"Cual era mi nombre de nuevo?\"})"
   ]
  },
  {
   "cell_type": "markdown",
   "id": "69897b07",
   "metadata": {},
   "source": [
    "## ConversationSummaryMemory with RunnableWithMessageHistory\n",
    "Continuara..."
   ]
  }
 ],
 "metadata": {
  "kernelspec": {
   "display_name": "venv",
   "language": "python",
   "name": "python3"
  },
  "language_info": {
   "codemirror_mode": {
    "name": "ipython",
    "version": 3
   },
   "file_extension": ".py",
   "mimetype": "text/x-python",
   "name": "python",
   "nbconvert_exporter": "python",
   "pygments_lexer": "ipython3",
   "version": "3.13.7"
  }
 },
 "nbformat": 4,
 "nbformat_minor": 5
}
